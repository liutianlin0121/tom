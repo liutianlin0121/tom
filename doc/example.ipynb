{
 "cells": [
  {
   "cell_type": "markdown",
   "metadata": {
    "collapsed": true
   },
   "source": [
    "# Usage example"
   ]
  },
  {
   "cell_type": "markdown",
   "metadata": {},
   "source": [
    "To showcase the use of this toolkit, we first create a simple learning task, and then learn an OOM model using spectral learning.\n",
    "\n",
    "We start by importing the toolkit and initializing a random generator."
   ]
  },
  {
   "cell_type": "code",
   "execution_count": 1,
   "metadata": {
    "collapsed": false
   },
   "outputs": [],
   "source": [
    "import tom\n",
    "import numpy as np\n",
    "import matplotlib.pyplot as plt\n",
    "%matplotlib inline\n",
    "rand = tom.Random(1234567)"
   ]
  },
  {
   "cell_type": "markdown",
   "metadata": {},
   "source": [
    "## 1. The learning task\n",
    "\n",
    "First, we randomly create a sparse 7-dimensional OOM with an alphabet size of $|\\Sigma| = 5$. This describes a stationary and ergodic symbol process. We sample a training sequence of length $10^6$ and five test sequences each of length $10^4$.\n",
    "\n",
    "We will use initial subsequences of the training sequence of increasing lengths $\\{10^2, 10^{2.5}, 10^3, 10^{3.5}, 10^4, 10^{4.5}, 10^{5}, 10^{5.5}, 10^6 \\}$ as data for the OOM estimation, and test the performance of the learnt models on the test sequences by computing the time-averaged negative $\\log_2$-likelihood."
   ]
  },
  {
   "cell_type": "code",
   "execution_count": 2,
   "metadata": {
    "collapsed": false
   },
   "outputs": [],
   "source": [
    "oom = tom.Oom(7, 5, 0, 20, 1e-7, rand)\n",
    "train_sequence = oom.sample(10**6, rand)\n",
    "test_sequences = []\n",
    "for i in range(5):\n",
    "    oom.reset()\n",
    "    test_sequences.append(oom.sample(10**4, rand))\n",
    "train_lengths = [int(10**(k/2)) for k in range(4,13)]"
   ]
  },
  {
   "cell_type": "markdown",
   "metadata": {},
   "source": [
    "## 2. Performing spectral learning\n",
    "\n",
    "Spectral learning requires the following steps. For details consult the publication: [Michael Thon and Herbert Jaeger. Links between multiplicity automata, observable operator models and predictive state representations -- a unified learning framework. Journal of Machine Learning Research, 16:103–147, 2015](http://jmlr.org/papers/v16/thon15a.html).\n",
    "\n",
    "\n",
    "1. For words $\\bar{x}\\in\\Sigma^*$, estimate from the available data the values $\\hat{f}(\\bar{x})$, where $f(\\bar{x}) = P(\\bar{x})$ is the stationary probability of observing $\\bar{x}$. This is accomplished  by a `tom.Estimator` object, which uses a suffix tree representation of the data in the form of a `tom.STree` to compute these estimates efficiently.\n",
    "\n",
    "2. Select sets $X, Y \\subseteq \\Sigma^*$ of \"indicative\" and \"characteristic\" words that determine which of the above estimates will be used for the spectral learning. Here, we will use the at most 1000 words occurring most often in the training sequence. This is computed efficiently by the function `tom.getWordsFromData` from a suffix tree representation of the training data.\n",
    "\n",
    "3. Estimate an appropriate target dimension $d$ by the *numerical rank* of the matrix $\\hat{F}^{Y,X} = [\\hat{f}(\\bar{x}\\bar{y})]_{\\bar{y}\\in Y, \\bar{x}\\in X}$.\n",
    "\n",
    "4. Perform the actual spectral learning using the function `tom.learn.spectral`. This consists of the following steps:\n",
    "    - Find the best rank-$d$ approximation $BA \\approx \\hat{F}^{Y,X}$ to the matrix $\\hat{F}^{Y,X}$.\n",
    "    - Project the columns of $\\hat{F}^{Y,X}$ and $\\hat{F}_z^{Y,X} = [\\hat{f}(\\bar{x} z \\bar{y})]_{\\bar{y}\\in Y, \\bar{x}\\in X}$, as well as the vector $\\hat{F}^{X, \\varepsilon} = [\\hat{f}(\\bar{x})]_{\\bar{x}\\in X}$ to the principal subspace spanned by $B$, giving the coordinate representations $A$, $A_z$ and $\\hat{\\omega}_\\varepsilon$, respectively.\n",
    "    - Solve $\\hat{\\tau_z} A = A_z$ in the least-squares sense for each symbol $z\\in \\Sigma$, as well as $\\hat{\\sigma} A = \\hat{F}^{\\varepsilon, Y} = [\\hat{f}(\\bar{y})]^\\top_{\\bar{y}\\in Y}$.\n",
    "\n",
    "5. The estimated model should be \"stabilized\" to insure that is cannot produce negative probability estimates.\n",
    "\n",
    "This is performed once for each training sequence length."
   ]
  },
  {
   "cell_type": "code",
   "execution_count": 3,
   "metadata": {
    "collapsed": false
   },
   "outputs": [
    {
     "name": "stdout",
     "output_type": "stream",
     "text": [
      ".........done!\n"
     ]
    }
   ],
   "source": [
    "# Initialize a tom.Data object that computes the desired estimates from the training\n",
    "# data (using a suffix tree representation internally) and provides the required\n",
    "# data matrices including variance estimates.\n",
    "data = tom.Data()\n",
    "\n",
    "# For every training sequence length, learn a model via spectral learning\n",
    "learnt_ooms = []\n",
    "for train_length in train_lengths:\n",
    "    # 1. Use the current training sequence to obtain estimates\n",
    "    data.sequence = train_sequence.sub(train_length)\n",
    "    \n",
    "    # 2. Select sets of indicative and characteristic words:\n",
    "    data.X = data.Y = tom.wordsFromData(data.stree, maxWords = 1000)\n",
    "    \n",
    "    # 3. Estimate an appropriate target dimension:\n",
    "    d = tom.learn.rank_estimate(data.F_YX(), data.V_YX(regularization=(0,0)))\n",
    "    \n",
    "    # 4. Perform spectral learning to estimate an OOM:\n",
    "    learnt_oom = tom.learn.model_estimate(data, d)\n",
    "    \n",
    "    # 5. Set default stabilization parameters for the learnt model:\n",
    "    learnt_oom.stabilization(preset='default')\n",
    "\n",
    "    learnt_ooms.append(learnt_oom)\n",
    "\n",
    "    # Print a very simple progress indicator:\n",
    "    print('.', end='', flush=True)\n",
    "print('done!')"
   ]
  },
  {
   "cell_type": "markdown",
   "metadata": {},
   "source": [
    "## 3. Evaluate the learnt models and plot the results\n",
    "\n",
    "We first print the estimated model dimension to see if the dimension estimation has produced reasonable values.\n",
    "\n",
    "Next we evaluate the learnt models by computing the time-averaged negative $\\log_2$-likelihood (cross-entropy) on the test sequences by the member function `Oom.l2l(test_sequence)`. Note that a value of $\\log_2(|\\Sigma|) \\approx 2.32$ corresponds to pure chance level (i.e., a model guessing the next symbol uniformly randomly). Furthermore, we can estimate the best possible value by computing the time-averaged negative $\\log_2$-\"likelihood\" of the true model on the test sequences, which samples the entropy of the stochastic process.\n",
    "\n",
    "We then plot the performance of the estimated models (y-axis), where we scale the plot such that the minimum corresponds to the best possible model, and the maximum corresponds to pure chance."
   ]
  },
  {
   "cell_type": "code",
   "execution_count": 4,
   "metadata": {
    "collapsed": false
   },
   "outputs": [
    {
     "name": "stdout",
     "output_type": "stream",
     "text": [
      "Estimated model dimensions:  [3, 4, 5, 5, 6, 7, 7, 7, 7]\n"
     ]
    }
   ],
   "source": [
    "# Let's examine the estimated model dimensions:\n",
    "print('Estimated model dimensions: ', [learnt_oom.dimension() for learnt_oom in learnt_ooms])"
   ]
  },
  {
   "cell_type": "code",
   "execution_count": 5,
   "metadata": {
    "collapsed": false
   },
   "outputs": [],
   "source": [
    "# The time-averaged negative log2-likelihood is computed by the function `oom.l2l(test_sequence)`.\n",
    "results = [np.average([ learnt_oom.l2l(test_sequence) for test_sequence in test_sequences ])\n",
    "           for learnt_oom in learnt_ooms]\n",
    "\n",
    "# Compute an approximation to the optimum value:\n",
    "l2l_opt = np.average([oom.l2l(test_sequence) for test_sequence in test_sequences])"
   ]
  },
  {
   "cell_type": "code",
   "execution_count": 6,
   "metadata": {
    "collapsed": false
   },
   "outputs": [
    {
     "data": {
      "image/png": "[encoded data removed]",
      "text/plain": [
       "<matplotlib.figure.Figure at 0x1023191d0>"
      ]
     },
     "metadata": {},
     "output_type": "display_data"
    }
   ],
   "source": [
    "# Plot the performance of the estimated models:\n",
    "plt.semilogx(train_lengths, results);\n",
    "plt.xlim((train_lengths[0], train_lengths[-1]));\n",
    "plt.ylim((l2l_opt, np.log2(5)));\n",
    "plt.title('Performance of the estimated models');\n",
    "plt.ylabel('cross-entropy');\n",
    "plt.xlabel('Length of training data');"
   ]
  }
 ],
 "metadata": {
  "anaconda-cloud": {},
  "kernelspec": {
   "display_name": "Python [default]",
   "language": "python",
   "name": "python3"
  },
  "language_info": {
   "codemirror_mode": {
    "name": "ipython",
    "version": 3
   },
   "file_extension": ".py",
   "mimetype": "text/x-python",
   "name": "python",
   "nbconvert_exporter": "python",
   "pygments_lexer": "ipython3",
   "version": "3.5.2"
  }
 },
 "nbformat": 4,
 "nbformat_minor": 0
}
