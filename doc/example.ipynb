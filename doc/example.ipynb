{
 "cells": [
  {
   "cell_type": "markdown",
   "metadata": {},
   "source": [
    "# Example"
   ]
  },
  {
   "cell_type": "code",
   "execution_count": 1,
   "metadata": {
    "collapsed": true
   },
   "outputs": [],
   "source": [
    "import tom"
   ]
  },
  {
   "cell_type": "markdown",
   "metadata": {},
   "source": [
    "## Creating training and test data\n",
    "\n",
    "First, we initialize a random generator. We use this to randomly create a 7-dimensional OOM with an alphabet size of $|\\Sigma| = 5$ and a 7-dimensional input-output OOM with an output alphabet size of $|\\Sigma_O| = 5$ and an input alphabet size of $|\\Sigma_I| = 3$. From both of these, we sample a training sequence of length $10^7$ and five test sequences of length $10^5$. In the case of the input-output OOM, the inputs are by default chosen independently uniformly random at each time step, since we -- for simplicity -- do not supply an input policy.\n",
    "\n",
    "We will use initial subsequences of the training sequences of increasing lengths $\\{10^2, 10^{2.5}, 10^3, 10^{3.5}\\ldots, 10^7 \\}$ as data for the OOM and IO-OOM estimation, and test the performance of the learnt models on the test sequences."
   ]
  },
  {
   "cell_type": "code",
   "execution_count": 2,
   "metadata": {
    "collapsed": true
   },
   "outputs": [],
   "source": [
    "rand = tom.Random(123456789)\n",
    "oom = tom.Oom(7, 5, 0, 10, rand)\n",
    "io_oom = tom.Oom(7, 5, 3, 10, rand)\n",
    "train_seq = oom.generate(10**7, rand)\n",
    "io_train_seq = oom.generate(10**7, rand)\n",
    "test_seqs = []\n",
    "io_test_seqs = []\n",
    "for i in range(5):\n",
    "    oom.reset()\n",
    "    io_oom.reset()\n",
    "    test_seqs.append(oom.generate(10**5, rand))\n",
    "    io_test_seqs.append(io_oom.generate(10**5, rand))\n",
    "train_lengths = [int(10**(k/2)) for k in range(4,15)]"
   ]
  },
  {
   "cell_type": "markdown",
   "metadata": {},
   "source": [
    "## Performing spectral learning\n",
    "\n",
    "For each spectral learning run, the following steps need to be performed:\n",
    "\n",
    "1. For sequences $\\bar{x}$, estimate from the available data the values $\\hat{f}(\\bar{x})$, where $f(\\bar{x}) = P(\\bar{x})$ is the stationary probability of observing $\\bar{x}$. This is accomplished  by a `tom.Estimator` object, which uses a suffix tree representation of the data in the form of a `tom.STree` to compute these estimates efficiently.\n",
    "\n",
    "2. Select sets $X, Y \\subseteq \\Sigma^*$ of \"indicative\" and \"characteristic\" words that determine which of the above sequence estimates will be used for the spectral learning. This is accomplished by the function `tom.getWordsFromData`. , which will index the columns and rows of certain Assemble the estimates into matrices $\\hat{F}^{X,Y}$ and $\\hat{F}_z^{X,Y}$, where "
   ]
  },
  {
   "cell_type": "code",
   "execution_count": 5,
   "metadata": {
    "collapsed": false
   },
   "outputs": [
    {
     "ename": "SyntaxError",
     "evalue": "invalid syntax (<ipython-input-5-e4a12667f57a>, line 1)",
     "output_type": "error",
     "traceback": [
      "\u001b[0;36m  File \u001b[0;32m\"<ipython-input-5-e4a12667f57a>\"\u001b[0;36m, line \u001b[0;32m1\u001b[0m\n\u001b[0;31m    tom.\u001b[0m\n\u001b[0m        ^\u001b[0m\n\u001b[0;31mSyntaxError\u001b[0m\u001b[0;31m:\u001b[0m invalid syntax\n"
     ]
    }
   ],
   "source": [
    "tom.tomlib.wordsFromData"
   ]
  },
  {
   "cell_type": "code",
   "execution_count": null,
   "metadata": {
    "collapsed": true
   },
   "outputs": [],
   "source": [
    "abbabbc : \"xa and xab and xabb have same statistics\". "
   ]
  }
 ],
 "metadata": {
  "kernelspec": {
   "display_name": "Python 3",
   "language": "python",
   "name": "python3"
  },
  "language_info": {
   "codemirror_mode": {
    "name": "ipython",
    "version": 3
   },
   "file_extension": ".py",
   "mimetype": "text/x-python",
   "name": "python",
   "nbconvert_exporter": "python",
   "pygments_lexer": "ipython3",
   "version": "3.4.3"
  }
 },
 "nbformat": 4,
 "nbformat_minor": 0
}
